{
 "cells": [
  {
   "cell_type": "markdown",
   "source": [
    "# Lending Club Case Study"
   ],
   "metadata": {
    "collapsed": false
   }
  },
  {
   "cell_type": "code",
   "execution_count": 259,
   "outputs": [
    {
     "data": {
      "text/plain": "<Figure size 1500x600 with 0 Axes>"
     },
     "metadata": {},
     "output_type": "display_data"
    }
   ],
   "source": [
    "import pandas as pd\n",
    "import matplotlib.pyplot as plt\n",
    "import seaborn as sns\n",
    "plt.figure(figsize=(15,6))\n",
    "import warnings\n",
    "warnings.filterwarnings('ignore')"
   ],
   "metadata": {
    "collapsed": false
   }
  },
  {
   "cell_type": "markdown",
   "source": [
    "## Load Data"
   ],
   "metadata": {
    "collapsed": false
   }
  },
  {
   "cell_type": "code",
   "execution_count": 260,
   "outputs": [
    {
     "data": {
      "text/plain": "            id  member_id  loan_amnt  funded_amnt  funded_amnt_inv  \\\n0      1077501    1296599       5000         5000           4975.0   \n1      1077430    1314167       2500         2500           2500.0   \n2      1077175    1313524       2400         2400           2400.0   \n3      1076863    1277178      10000        10000          10000.0   \n4      1075358    1311748       3000         3000           3000.0   \n...        ...        ...        ...          ...              ...   \n39712    92187      92174       2500         2500           1075.0   \n39713    90665      90607       8500         8500            875.0   \n39714    90395      90390       5000         5000           1325.0   \n39715    90376      89243       5000         5000            650.0   \n39716    87023      86999       7500         7500            800.0   \n\n             term int_rate  installment grade sub_grade  ...  \\\n0       36 months   10.65%       162.87     B        B2  ...   \n1       60 months   15.27%        59.83     C        C4  ...   \n2       36 months   15.96%        84.33     C        C5  ...   \n3       36 months   13.49%       339.31     C        C1  ...   \n4       60 months   12.69%        67.79     B        B5  ...   \n...           ...      ...          ...   ...       ...  ...   \n39712   36 months    8.07%        78.42     A        A4  ...   \n39713   36 months   10.28%       275.38     C        C1  ...   \n39714   36 months    8.07%       156.84     A        A4  ...   \n39715   36 months    7.43%       155.38     A        A2  ...   \n39716   36 months   13.75%       255.43     E        E2  ...   \n\n      num_tl_90g_dpd_24m num_tl_op_past_12m pct_tl_nvr_dlq  percent_bc_gt_75  \\\n0                    NaN                NaN            NaN               NaN   \n1                    NaN                NaN            NaN               NaN   \n2                    NaN                NaN            NaN               NaN   \n3                    NaN                NaN            NaN               NaN   \n4                    NaN                NaN            NaN               NaN   \n...                  ...                ...            ...               ...   \n39712                NaN                NaN            NaN               NaN   \n39713                NaN                NaN            NaN               NaN   \n39714                NaN                NaN            NaN               NaN   \n39715                NaN                NaN            NaN               NaN   \n39716                NaN                NaN            NaN               NaN   \n\n      pub_rec_bankruptcies tax_liens tot_hi_cred_lim total_bal_ex_mort  \\\n0                      0.0       0.0             NaN               NaN   \n1                      0.0       0.0             NaN               NaN   \n2                      0.0       0.0             NaN               NaN   \n3                      0.0       0.0             NaN               NaN   \n4                      0.0       0.0             NaN               NaN   \n...                    ...       ...             ...               ...   \n39712                  NaN       NaN             NaN               NaN   \n39713                  NaN       NaN             NaN               NaN   \n39714                  NaN       NaN             NaN               NaN   \n39715                  NaN       NaN             NaN               NaN   \n39716                  NaN       NaN             NaN               NaN   \n\n      total_bc_limit total_il_high_credit_limit  \n0                NaN                        NaN  \n1                NaN                        NaN  \n2                NaN                        NaN  \n3                NaN                        NaN  \n4                NaN                        NaN  \n...              ...                        ...  \n39712            NaN                        NaN  \n39713            NaN                        NaN  \n39714            NaN                        NaN  \n39715            NaN                        NaN  \n39716            NaN                        NaN  \n\n[39717 rows x 111 columns]",
      "text/html": "<div>\n<style scoped>\n    .dataframe tbody tr th:only-of-type {\n        vertical-align: middle;\n    }\n\n    .dataframe tbody tr th {\n        vertical-align: top;\n    }\n\n    .dataframe thead th {\n        text-align: right;\n    }\n</style>\n<table border=\"1\" class=\"dataframe\">\n  <thead>\n    <tr style=\"text-align: right;\">\n      <th></th>\n      <th>id</th>\n      <th>member_id</th>\n      <th>loan_amnt</th>\n      <th>funded_amnt</th>\n      <th>funded_amnt_inv</th>\n      <th>term</th>\n      <th>int_rate</th>\n      <th>installment</th>\n      <th>grade</th>\n      <th>sub_grade</th>\n      <th>...</th>\n      <th>num_tl_90g_dpd_24m</th>\n      <th>num_tl_op_past_12m</th>\n      <th>pct_tl_nvr_dlq</th>\n      <th>percent_bc_gt_75</th>\n      <th>pub_rec_bankruptcies</th>\n      <th>tax_liens</th>\n      <th>tot_hi_cred_lim</th>\n      <th>total_bal_ex_mort</th>\n      <th>total_bc_limit</th>\n      <th>total_il_high_credit_limit</th>\n    </tr>\n  </thead>\n  <tbody>\n    <tr>\n      <th>0</th>\n      <td>1077501</td>\n      <td>1296599</td>\n      <td>5000</td>\n      <td>5000</td>\n      <td>4975.0</td>\n      <td>36 months</td>\n      <td>10.65%</td>\n      <td>162.87</td>\n      <td>B</td>\n      <td>B2</td>\n      <td>...</td>\n      <td>NaN</td>\n      <td>NaN</td>\n      <td>NaN</td>\n      <td>NaN</td>\n      <td>0.0</td>\n      <td>0.0</td>\n      <td>NaN</td>\n      <td>NaN</td>\n      <td>NaN</td>\n      <td>NaN</td>\n    </tr>\n    <tr>\n      <th>1</th>\n      <td>1077430</td>\n      <td>1314167</td>\n      <td>2500</td>\n      <td>2500</td>\n      <td>2500.0</td>\n      <td>60 months</td>\n      <td>15.27%</td>\n      <td>59.83</td>\n      <td>C</td>\n      <td>C4</td>\n      <td>...</td>\n      <td>NaN</td>\n      <td>NaN</td>\n      <td>NaN</td>\n      <td>NaN</td>\n      <td>0.0</td>\n      <td>0.0</td>\n      <td>NaN</td>\n      <td>NaN</td>\n      <td>NaN</td>\n      <td>NaN</td>\n    </tr>\n    <tr>\n      <th>2</th>\n      <td>1077175</td>\n      <td>1313524</td>\n      <td>2400</td>\n      <td>2400</td>\n      <td>2400.0</td>\n      <td>36 months</td>\n      <td>15.96%</td>\n      <td>84.33</td>\n      <td>C</td>\n      <td>C5</td>\n      <td>...</td>\n      <td>NaN</td>\n      <td>NaN</td>\n      <td>NaN</td>\n      <td>NaN</td>\n      <td>0.0</td>\n      <td>0.0</td>\n      <td>NaN</td>\n      <td>NaN</td>\n      <td>NaN</td>\n      <td>NaN</td>\n    </tr>\n    <tr>\n      <th>3</th>\n      <td>1076863</td>\n      <td>1277178</td>\n      <td>10000</td>\n      <td>10000</td>\n      <td>10000.0</td>\n      <td>36 months</td>\n      <td>13.49%</td>\n      <td>339.31</td>\n      <td>C</td>\n      <td>C1</td>\n      <td>...</td>\n      <td>NaN</td>\n      <td>NaN</td>\n      <td>NaN</td>\n      <td>NaN</td>\n      <td>0.0</td>\n      <td>0.0</td>\n      <td>NaN</td>\n      <td>NaN</td>\n      <td>NaN</td>\n      <td>NaN</td>\n    </tr>\n    <tr>\n      <th>4</th>\n      <td>1075358</td>\n      <td>1311748</td>\n      <td>3000</td>\n      <td>3000</td>\n      <td>3000.0</td>\n      <td>60 months</td>\n      <td>12.69%</td>\n      <td>67.79</td>\n      <td>B</td>\n      <td>B5</td>\n      <td>...</td>\n      <td>NaN</td>\n      <td>NaN</td>\n      <td>NaN</td>\n      <td>NaN</td>\n      <td>0.0</td>\n      <td>0.0</td>\n      <td>NaN</td>\n      <td>NaN</td>\n      <td>NaN</td>\n      <td>NaN</td>\n    </tr>\n    <tr>\n      <th>...</th>\n      <td>...</td>\n      <td>...</td>\n      <td>...</td>\n      <td>...</td>\n      <td>...</td>\n      <td>...</td>\n      <td>...</td>\n      <td>...</td>\n      <td>...</td>\n      <td>...</td>\n      <td>...</td>\n      <td>...</td>\n      <td>...</td>\n      <td>...</td>\n      <td>...</td>\n      <td>...</td>\n      <td>...</td>\n      <td>...</td>\n      <td>...</td>\n      <td>...</td>\n      <td>...</td>\n    </tr>\n    <tr>\n      <th>39712</th>\n      <td>92187</td>\n      <td>92174</td>\n      <td>2500</td>\n      <td>2500</td>\n      <td>1075.0</td>\n      <td>36 months</td>\n      <td>8.07%</td>\n      <td>78.42</td>\n      <td>A</td>\n      <td>A4</td>\n      <td>...</td>\n      <td>NaN</td>\n      <td>NaN</td>\n      <td>NaN</td>\n      <td>NaN</td>\n      <td>NaN</td>\n      <td>NaN</td>\n      <td>NaN</td>\n      <td>NaN</td>\n      <td>NaN</td>\n      <td>NaN</td>\n    </tr>\n    <tr>\n      <th>39713</th>\n      <td>90665</td>\n      <td>90607</td>\n      <td>8500</td>\n      <td>8500</td>\n      <td>875.0</td>\n      <td>36 months</td>\n      <td>10.28%</td>\n      <td>275.38</td>\n      <td>C</td>\n      <td>C1</td>\n      <td>...</td>\n      <td>NaN</td>\n      <td>NaN</td>\n      <td>NaN</td>\n      <td>NaN</td>\n      <td>NaN</td>\n      <td>NaN</td>\n      <td>NaN</td>\n      <td>NaN</td>\n      <td>NaN</td>\n      <td>NaN</td>\n    </tr>\n    <tr>\n      <th>39714</th>\n      <td>90395</td>\n      <td>90390</td>\n      <td>5000</td>\n      <td>5000</td>\n      <td>1325.0</td>\n      <td>36 months</td>\n      <td>8.07%</td>\n      <td>156.84</td>\n      <td>A</td>\n      <td>A4</td>\n      <td>...</td>\n      <td>NaN</td>\n      <td>NaN</td>\n      <td>NaN</td>\n      <td>NaN</td>\n      <td>NaN</td>\n      <td>NaN</td>\n      <td>NaN</td>\n      <td>NaN</td>\n      <td>NaN</td>\n      <td>NaN</td>\n    </tr>\n    <tr>\n      <th>39715</th>\n      <td>90376</td>\n      <td>89243</td>\n      <td>5000</td>\n      <td>5000</td>\n      <td>650.0</td>\n      <td>36 months</td>\n      <td>7.43%</td>\n      <td>155.38</td>\n      <td>A</td>\n      <td>A2</td>\n      <td>...</td>\n      <td>NaN</td>\n      <td>NaN</td>\n      <td>NaN</td>\n      <td>NaN</td>\n      <td>NaN</td>\n      <td>NaN</td>\n      <td>NaN</td>\n      <td>NaN</td>\n      <td>NaN</td>\n      <td>NaN</td>\n    </tr>\n    <tr>\n      <th>39716</th>\n      <td>87023</td>\n      <td>86999</td>\n      <td>7500</td>\n      <td>7500</td>\n      <td>800.0</td>\n      <td>36 months</td>\n      <td>13.75%</td>\n      <td>255.43</td>\n      <td>E</td>\n      <td>E2</td>\n      <td>...</td>\n      <td>NaN</td>\n      <td>NaN</td>\n      <td>NaN</td>\n      <td>NaN</td>\n      <td>NaN</td>\n      <td>NaN</td>\n      <td>NaN</td>\n      <td>NaN</td>\n      <td>NaN</td>\n      <td>NaN</td>\n    </tr>\n  </tbody>\n</table>\n<p>39717 rows × 111 columns</p>\n</div>"
     },
     "execution_count": 260,
     "metadata": {},
     "output_type": "execute_result"
    }
   ],
   "source": [
    "loans_df = pd.read_csv(\"data\\loan.csv\")\n",
    "loans_df"
   ],
   "metadata": {
    "collapsed": false
   }
  },
  {
   "cell_type": "markdown",
   "source": [
    "## Studying the Data"
   ],
   "metadata": {
    "collapsed": false
   }
  },
  {
   "cell_type": "code",
   "execution_count": 261,
   "outputs": [],
   "source": [
    "loans_df = loans_df[['application_type', #Indicates whether the loan is an individual application or a joint application with two co-borrowers - does having joint result worser loans ?\n",
    "          'int_rate', # Interest Rate on the loan - Does Higher Interest rates causes more defaults\n",
    "          'loan_amnt', # The listed amount of the loan applied for by the borrower - Does the loan amount result in defaulting\n",
    "          'issue_d', #The month which the loan was funded\n",
    "          'total_pymnt', # Payments received to date for total amount funded\n",
    "          'total_rec_int', # total received interest\n",
    "          'total_rec_prncp', # total received principal\n",
    "          'total_rec_late_fee', # total received late fee\n",
    "          'recoveries', # post charge off gross recovery\n",
    "          'loan_status', # is it 'Fully paid', 'Current', 'Charged-off' (defaulted)\n",
    "          'verification_status', # Indicates if income was verified by LC - Should check if this has more incidents of defaulting\n",
    "          'term', # Does a longer 'term' have an effect on the defaulting of loans\n",
    "          'grade', # Are higher grade loans more riskier because of interest rates ?\n",
    "          'delinq_amnt', # The past-due amount owed for the accounts on which the borrower is now delinquent.\n",
    "          'emp_length' , # Employment length in years. Possible values are between 0 and 10 where 0 means less than one year and 10 means ten or more years\n",
    "          'purpose', # A category provided by the borrower for the loan request.\n",
    "          'annual_inc', # The self-reported annual income provided by the borrower during registration.\n",
    "          'annual_inc_joint', #The combined self-reported annual income provided by the co-borrowers during registration\n",
    "          'total_bc_limit', # Total bankcard high credit/credit limit\n",
    "          'avg_cur_bal', # Average current balance of all accounts\n",
    "          'revol_util', # Your revolving utilization rate compares your credit debt to your total credit limit, Experian recommends that you keep your revolving utilization rate below 30%. The lower your rate, the better for loans  ?\n",
    "          'addr_state' # The state provided by the borrower in the loan application\n",
    "          ]]\n"
   ],
   "metadata": {
    "collapsed": false
   }
  },
  {
   "cell_type": "markdown",
   "source": [
    "## Cleaning the Data"
   ],
   "metadata": {
    "collapsed": false
   }
  },
  {
   "cell_type": "code",
   "execution_count": 262,
   "outputs": [
    {
     "name": "stdout",
     "output_type": "stream",
     "text": [
      "# Rows: 39717 \n",
      "# Columns: 22\n",
      "All records have application_type INDIVIDUAL: True\n"
     ]
    }
   ],
   "source": [
    "# Check shape of dataset\n",
    "total_rows = loans_df.shape[0]\n",
    "print(\"# Rows: {} \\n# Columns: {}\".format(total_rows, loans_df.shape[1]))\n",
    "\n",
    "# Check how many INDIVIDUAL Accounts\n",
    "individual_rows = loans_df[loans_df['application_type'] == 'INDIVIDUAL'].shape[0]\n",
    "print(\"All records have application_type INDIVIDUAL: {}\".format(individual_rows == total_rows))\n",
    "loans_df.drop(loans_df.annual_inc_joint.name, axis=1, inplace=True)\n"
   ],
   "metadata": {
    "collapsed": false
   }
  },
  {
   "cell_type": "code",
   "execution_count": 263,
   "outputs": [
    {
     "name": "stdout",
     "output_type": "stream",
     "text": [
      "All records have bc_limit_rows NaN: True\n"
     ]
    },
    {
     "data": {
      "text/plain": "      application_type int_rate  loan_amnt issue_d   total_pymnt  \\\n0           INDIVIDUAL   10.65%       5000  Dec-11   5863.155187   \n1           INDIVIDUAL   15.27%       2500  Dec-11   1008.710000   \n2           INDIVIDUAL   15.96%       2400  Dec-11   3005.666844   \n3           INDIVIDUAL   13.49%      10000  Dec-11  12231.890000   \n4           INDIVIDUAL   12.69%       3000  Dec-11   3513.330000   \n...                ...      ...        ...     ...           ...   \n39712       INDIVIDUAL    8.07%       2500  Jul-07   2822.969293   \n39713       INDIVIDUAL   10.28%       8500  Jul-07   9913.491822   \n39714       INDIVIDUAL    8.07%       5000  Jul-07   5272.161128   \n39715       INDIVIDUAL    7.43%       5000  Jul-07   5174.198551   \n39716       INDIVIDUAL   13.75%       7500  Jun-07   9195.263334   \n\n       total_rec_int  total_rec_prncp  total_rec_late_fee  recoveries  \\\n0             863.16          5000.00                0.00        0.00   \n1             435.17           456.46                0.00      117.08   \n2             605.67          2400.00                0.00        0.00   \n3            2214.92         10000.00               16.97        0.00   \n4            1037.39          2475.94                0.00        0.00   \n...              ...              ...                 ...         ...   \n39712         322.97          2500.00                0.00        0.00   \n39713        1413.49          8500.00                0.00        0.00   \n39714         272.16          5000.00                0.00        0.00   \n39715         174.20          5000.00                0.00        0.00   \n39716        1695.26          7500.00                0.00        0.00   \n\n       loan_status verification_status        term grade  delinq_amnt  \\\n0       Fully Paid            Verified   36 months     B            0   \n1      Charged Off     Source Verified   60 months     C            0   \n2       Fully Paid        Not Verified   36 months     C            0   \n3       Fully Paid     Source Verified   36 months     C            0   \n4          Current     Source Verified   60 months     B            0   \n...            ...                 ...         ...   ...          ...   \n39712   Fully Paid        Not Verified   36 months     A            0   \n39713   Fully Paid        Not Verified   36 months     C            0   \n39714   Fully Paid        Not Verified   36 months     A            0   \n39715   Fully Paid        Not Verified   36 months     A            0   \n39716   Fully Paid        Not Verified   36 months     E            0   \n\n      emp_length             purpose  annual_inc  avg_cur_bal revol_util  \\\n0      10+ years         credit_card     24000.0          NaN     83.70%   \n1       < 1 year                 car     30000.0          NaN      9.40%   \n2      10+ years      small_business     12252.0          NaN     98.50%   \n3      10+ years               other     49200.0          NaN        21%   \n4         1 year               other     80000.0          NaN     53.90%   \n...          ...                 ...         ...          ...        ...   \n39712    4 years    home_improvement    110000.0          NaN     13.10%   \n39713    3 years         credit_card     18000.0          NaN     26.90%   \n39714   < 1 year  debt_consolidation    100000.0          NaN     19.40%   \n39715   < 1 year               other    200000.0          NaN      0.70%   \n39716   < 1 year  debt_consolidation     22000.0          NaN     51.50%   \n\n      addr_state  \n0             AZ  \n1             GA  \n2             IL  \n3             CA  \n4             OR  \n...          ...  \n39712         CO  \n39713         NC  \n39714         MA  \n39715         MD  \n39716         MA  \n\n[39717 rows x 20 columns]",
      "text/html": "<div>\n<style scoped>\n    .dataframe tbody tr th:only-of-type {\n        vertical-align: middle;\n    }\n\n    .dataframe tbody tr th {\n        vertical-align: top;\n    }\n\n    .dataframe thead th {\n        text-align: right;\n    }\n</style>\n<table border=\"1\" class=\"dataframe\">\n  <thead>\n    <tr style=\"text-align: right;\">\n      <th></th>\n      <th>application_type</th>\n      <th>int_rate</th>\n      <th>loan_amnt</th>\n      <th>issue_d</th>\n      <th>total_pymnt</th>\n      <th>total_rec_int</th>\n      <th>total_rec_prncp</th>\n      <th>total_rec_late_fee</th>\n      <th>recoveries</th>\n      <th>loan_status</th>\n      <th>verification_status</th>\n      <th>term</th>\n      <th>grade</th>\n      <th>delinq_amnt</th>\n      <th>emp_length</th>\n      <th>purpose</th>\n      <th>annual_inc</th>\n      <th>avg_cur_bal</th>\n      <th>revol_util</th>\n      <th>addr_state</th>\n    </tr>\n  </thead>\n  <tbody>\n    <tr>\n      <th>0</th>\n      <td>INDIVIDUAL</td>\n      <td>10.65%</td>\n      <td>5000</td>\n      <td>Dec-11</td>\n      <td>5863.155187</td>\n      <td>863.16</td>\n      <td>5000.00</td>\n      <td>0.00</td>\n      <td>0.00</td>\n      <td>Fully Paid</td>\n      <td>Verified</td>\n      <td>36 months</td>\n      <td>B</td>\n      <td>0</td>\n      <td>10+ years</td>\n      <td>credit_card</td>\n      <td>24000.0</td>\n      <td>NaN</td>\n      <td>83.70%</td>\n      <td>AZ</td>\n    </tr>\n    <tr>\n      <th>1</th>\n      <td>INDIVIDUAL</td>\n      <td>15.27%</td>\n      <td>2500</td>\n      <td>Dec-11</td>\n      <td>1008.710000</td>\n      <td>435.17</td>\n      <td>456.46</td>\n      <td>0.00</td>\n      <td>117.08</td>\n      <td>Charged Off</td>\n      <td>Source Verified</td>\n      <td>60 months</td>\n      <td>C</td>\n      <td>0</td>\n      <td>&lt; 1 year</td>\n      <td>car</td>\n      <td>30000.0</td>\n      <td>NaN</td>\n      <td>9.40%</td>\n      <td>GA</td>\n    </tr>\n    <tr>\n      <th>2</th>\n      <td>INDIVIDUAL</td>\n      <td>15.96%</td>\n      <td>2400</td>\n      <td>Dec-11</td>\n      <td>3005.666844</td>\n      <td>605.67</td>\n      <td>2400.00</td>\n      <td>0.00</td>\n      <td>0.00</td>\n      <td>Fully Paid</td>\n      <td>Not Verified</td>\n      <td>36 months</td>\n      <td>C</td>\n      <td>0</td>\n      <td>10+ years</td>\n      <td>small_business</td>\n      <td>12252.0</td>\n      <td>NaN</td>\n      <td>98.50%</td>\n      <td>IL</td>\n    </tr>\n    <tr>\n      <th>3</th>\n      <td>INDIVIDUAL</td>\n      <td>13.49%</td>\n      <td>10000</td>\n      <td>Dec-11</td>\n      <td>12231.890000</td>\n      <td>2214.92</td>\n      <td>10000.00</td>\n      <td>16.97</td>\n      <td>0.00</td>\n      <td>Fully Paid</td>\n      <td>Source Verified</td>\n      <td>36 months</td>\n      <td>C</td>\n      <td>0</td>\n      <td>10+ years</td>\n      <td>other</td>\n      <td>49200.0</td>\n      <td>NaN</td>\n      <td>21%</td>\n      <td>CA</td>\n    </tr>\n    <tr>\n      <th>4</th>\n      <td>INDIVIDUAL</td>\n      <td>12.69%</td>\n      <td>3000</td>\n      <td>Dec-11</td>\n      <td>3513.330000</td>\n      <td>1037.39</td>\n      <td>2475.94</td>\n      <td>0.00</td>\n      <td>0.00</td>\n      <td>Current</td>\n      <td>Source Verified</td>\n      <td>60 months</td>\n      <td>B</td>\n      <td>0</td>\n      <td>1 year</td>\n      <td>other</td>\n      <td>80000.0</td>\n      <td>NaN</td>\n      <td>53.90%</td>\n      <td>OR</td>\n    </tr>\n    <tr>\n      <th>...</th>\n      <td>...</td>\n      <td>...</td>\n      <td>...</td>\n      <td>...</td>\n      <td>...</td>\n      <td>...</td>\n      <td>...</td>\n      <td>...</td>\n      <td>...</td>\n      <td>...</td>\n      <td>...</td>\n      <td>...</td>\n      <td>...</td>\n      <td>...</td>\n      <td>...</td>\n      <td>...</td>\n      <td>...</td>\n      <td>...</td>\n      <td>...</td>\n      <td>...</td>\n    </tr>\n    <tr>\n      <th>39712</th>\n      <td>INDIVIDUAL</td>\n      <td>8.07%</td>\n      <td>2500</td>\n      <td>Jul-07</td>\n      <td>2822.969293</td>\n      <td>322.97</td>\n      <td>2500.00</td>\n      <td>0.00</td>\n      <td>0.00</td>\n      <td>Fully Paid</td>\n      <td>Not Verified</td>\n      <td>36 months</td>\n      <td>A</td>\n      <td>0</td>\n      <td>4 years</td>\n      <td>home_improvement</td>\n      <td>110000.0</td>\n      <td>NaN</td>\n      <td>13.10%</td>\n      <td>CO</td>\n    </tr>\n    <tr>\n      <th>39713</th>\n      <td>INDIVIDUAL</td>\n      <td>10.28%</td>\n      <td>8500</td>\n      <td>Jul-07</td>\n      <td>9913.491822</td>\n      <td>1413.49</td>\n      <td>8500.00</td>\n      <td>0.00</td>\n      <td>0.00</td>\n      <td>Fully Paid</td>\n      <td>Not Verified</td>\n      <td>36 months</td>\n      <td>C</td>\n      <td>0</td>\n      <td>3 years</td>\n      <td>credit_card</td>\n      <td>18000.0</td>\n      <td>NaN</td>\n      <td>26.90%</td>\n      <td>NC</td>\n    </tr>\n    <tr>\n      <th>39714</th>\n      <td>INDIVIDUAL</td>\n      <td>8.07%</td>\n      <td>5000</td>\n      <td>Jul-07</td>\n      <td>5272.161128</td>\n      <td>272.16</td>\n      <td>5000.00</td>\n      <td>0.00</td>\n      <td>0.00</td>\n      <td>Fully Paid</td>\n      <td>Not Verified</td>\n      <td>36 months</td>\n      <td>A</td>\n      <td>0</td>\n      <td>&lt; 1 year</td>\n      <td>debt_consolidation</td>\n      <td>100000.0</td>\n      <td>NaN</td>\n      <td>19.40%</td>\n      <td>MA</td>\n    </tr>\n    <tr>\n      <th>39715</th>\n      <td>INDIVIDUAL</td>\n      <td>7.43%</td>\n      <td>5000</td>\n      <td>Jul-07</td>\n      <td>5174.198551</td>\n      <td>174.20</td>\n      <td>5000.00</td>\n      <td>0.00</td>\n      <td>0.00</td>\n      <td>Fully Paid</td>\n      <td>Not Verified</td>\n      <td>36 months</td>\n      <td>A</td>\n      <td>0</td>\n      <td>&lt; 1 year</td>\n      <td>other</td>\n      <td>200000.0</td>\n      <td>NaN</td>\n      <td>0.70%</td>\n      <td>MD</td>\n    </tr>\n    <tr>\n      <th>39716</th>\n      <td>INDIVIDUAL</td>\n      <td>13.75%</td>\n      <td>7500</td>\n      <td>Jun-07</td>\n      <td>9195.263334</td>\n      <td>1695.26</td>\n      <td>7500.00</td>\n      <td>0.00</td>\n      <td>0.00</td>\n      <td>Fully Paid</td>\n      <td>Not Verified</td>\n      <td>36 months</td>\n      <td>E</td>\n      <td>0</td>\n      <td>&lt; 1 year</td>\n      <td>debt_consolidation</td>\n      <td>22000.0</td>\n      <td>NaN</td>\n      <td>51.50%</td>\n      <td>MA</td>\n    </tr>\n  </tbody>\n</table>\n<p>39717 rows × 20 columns</p>\n</div>"
     },
     "execution_count": 263,
     "metadata": {},
     "output_type": "execute_result"
    }
   ],
   "source": [
    "# find unique values for total_bc_limit avg_cur_bal\n",
    "bc_limit_rows = loans_df[loans_df['total_bc_limit'].isna()].shape[0]\n",
    "print(\"All records have bc_limit_rows NaN: {}\".format(bc_limit_rows == total_rows))\n",
    "# remove total_bc_limit\n",
    "loans_df.drop(loans_df.total_bc_limit.name, axis=1, inplace=True)\n",
    "loans_df"
   ],
   "metadata": {
    "collapsed": false
   }
  },
  {
   "cell_type": "code",
   "execution_count": 264,
   "outputs": [
    {
     "name": "stdout",
     "output_type": "stream",
     "text": [
      "All records have avg_cur_bal NaN: True\n"
     ]
    },
    {
     "data": {
      "text/plain": "      application_type int_rate  loan_amnt issue_d   total_pymnt  \\\n0           INDIVIDUAL   10.65%       5000  Dec-11   5863.155187   \n1           INDIVIDUAL   15.27%       2500  Dec-11   1008.710000   \n2           INDIVIDUAL   15.96%       2400  Dec-11   3005.666844   \n3           INDIVIDUAL   13.49%      10000  Dec-11  12231.890000   \n4           INDIVIDUAL   12.69%       3000  Dec-11   3513.330000   \n...                ...      ...        ...     ...           ...   \n39712       INDIVIDUAL    8.07%       2500  Jul-07   2822.969293   \n39713       INDIVIDUAL   10.28%       8500  Jul-07   9913.491822   \n39714       INDIVIDUAL    8.07%       5000  Jul-07   5272.161128   \n39715       INDIVIDUAL    7.43%       5000  Jul-07   5174.198551   \n39716       INDIVIDUAL   13.75%       7500  Jun-07   9195.263334   \n\n       total_rec_int  total_rec_prncp  total_rec_late_fee  recoveries  \\\n0             863.16          5000.00                0.00        0.00   \n1             435.17           456.46                0.00      117.08   \n2             605.67          2400.00                0.00        0.00   \n3            2214.92         10000.00               16.97        0.00   \n4            1037.39          2475.94                0.00        0.00   \n...              ...              ...                 ...         ...   \n39712         322.97          2500.00                0.00        0.00   \n39713        1413.49          8500.00                0.00        0.00   \n39714         272.16          5000.00                0.00        0.00   \n39715         174.20          5000.00                0.00        0.00   \n39716        1695.26          7500.00                0.00        0.00   \n\n       loan_status verification_status        term grade  delinq_amnt  \\\n0       Fully Paid            Verified   36 months     B            0   \n1      Charged Off     Source Verified   60 months     C            0   \n2       Fully Paid        Not Verified   36 months     C            0   \n3       Fully Paid     Source Verified   36 months     C            0   \n4          Current     Source Verified   60 months     B            0   \n...            ...                 ...         ...   ...          ...   \n39712   Fully Paid        Not Verified   36 months     A            0   \n39713   Fully Paid        Not Verified   36 months     C            0   \n39714   Fully Paid        Not Verified   36 months     A            0   \n39715   Fully Paid        Not Verified   36 months     A            0   \n39716   Fully Paid        Not Verified   36 months     E            0   \n\n      emp_length             purpose  annual_inc revol_util addr_state  \n0      10+ years         credit_card     24000.0     83.70%         AZ  \n1       < 1 year                 car     30000.0      9.40%         GA  \n2      10+ years      small_business     12252.0     98.50%         IL  \n3      10+ years               other     49200.0        21%         CA  \n4         1 year               other     80000.0     53.90%         OR  \n...          ...                 ...         ...        ...        ...  \n39712    4 years    home_improvement    110000.0     13.10%         CO  \n39713    3 years         credit_card     18000.0     26.90%         NC  \n39714   < 1 year  debt_consolidation    100000.0     19.40%         MA  \n39715   < 1 year               other    200000.0      0.70%         MD  \n39716   < 1 year  debt_consolidation     22000.0     51.50%         MA  \n\n[39717 rows x 19 columns]",
      "text/html": "<div>\n<style scoped>\n    .dataframe tbody tr th:only-of-type {\n        vertical-align: middle;\n    }\n\n    .dataframe tbody tr th {\n        vertical-align: top;\n    }\n\n    .dataframe thead th {\n        text-align: right;\n    }\n</style>\n<table border=\"1\" class=\"dataframe\">\n  <thead>\n    <tr style=\"text-align: right;\">\n      <th></th>\n      <th>application_type</th>\n      <th>int_rate</th>\n      <th>loan_amnt</th>\n      <th>issue_d</th>\n      <th>total_pymnt</th>\n      <th>total_rec_int</th>\n      <th>total_rec_prncp</th>\n      <th>total_rec_late_fee</th>\n      <th>recoveries</th>\n      <th>loan_status</th>\n      <th>verification_status</th>\n      <th>term</th>\n      <th>grade</th>\n      <th>delinq_amnt</th>\n      <th>emp_length</th>\n      <th>purpose</th>\n      <th>annual_inc</th>\n      <th>revol_util</th>\n      <th>addr_state</th>\n    </tr>\n  </thead>\n  <tbody>\n    <tr>\n      <th>0</th>\n      <td>INDIVIDUAL</td>\n      <td>10.65%</td>\n      <td>5000</td>\n      <td>Dec-11</td>\n      <td>5863.155187</td>\n      <td>863.16</td>\n      <td>5000.00</td>\n      <td>0.00</td>\n      <td>0.00</td>\n      <td>Fully Paid</td>\n      <td>Verified</td>\n      <td>36 months</td>\n      <td>B</td>\n      <td>0</td>\n      <td>10+ years</td>\n      <td>credit_card</td>\n      <td>24000.0</td>\n      <td>83.70%</td>\n      <td>AZ</td>\n    </tr>\n    <tr>\n      <th>1</th>\n      <td>INDIVIDUAL</td>\n      <td>15.27%</td>\n      <td>2500</td>\n      <td>Dec-11</td>\n      <td>1008.710000</td>\n      <td>435.17</td>\n      <td>456.46</td>\n      <td>0.00</td>\n      <td>117.08</td>\n      <td>Charged Off</td>\n      <td>Source Verified</td>\n      <td>60 months</td>\n      <td>C</td>\n      <td>0</td>\n      <td>&lt; 1 year</td>\n      <td>car</td>\n      <td>30000.0</td>\n      <td>9.40%</td>\n      <td>GA</td>\n    </tr>\n    <tr>\n      <th>2</th>\n      <td>INDIVIDUAL</td>\n      <td>15.96%</td>\n      <td>2400</td>\n      <td>Dec-11</td>\n      <td>3005.666844</td>\n      <td>605.67</td>\n      <td>2400.00</td>\n      <td>0.00</td>\n      <td>0.00</td>\n      <td>Fully Paid</td>\n      <td>Not Verified</td>\n      <td>36 months</td>\n      <td>C</td>\n      <td>0</td>\n      <td>10+ years</td>\n      <td>small_business</td>\n      <td>12252.0</td>\n      <td>98.50%</td>\n      <td>IL</td>\n    </tr>\n    <tr>\n      <th>3</th>\n      <td>INDIVIDUAL</td>\n      <td>13.49%</td>\n      <td>10000</td>\n      <td>Dec-11</td>\n      <td>12231.890000</td>\n      <td>2214.92</td>\n      <td>10000.00</td>\n      <td>16.97</td>\n      <td>0.00</td>\n      <td>Fully Paid</td>\n      <td>Source Verified</td>\n      <td>36 months</td>\n      <td>C</td>\n      <td>0</td>\n      <td>10+ years</td>\n      <td>other</td>\n      <td>49200.0</td>\n      <td>21%</td>\n      <td>CA</td>\n    </tr>\n    <tr>\n      <th>4</th>\n      <td>INDIVIDUAL</td>\n      <td>12.69%</td>\n      <td>3000</td>\n      <td>Dec-11</td>\n      <td>3513.330000</td>\n      <td>1037.39</td>\n      <td>2475.94</td>\n      <td>0.00</td>\n      <td>0.00</td>\n      <td>Current</td>\n      <td>Source Verified</td>\n      <td>60 months</td>\n      <td>B</td>\n      <td>0</td>\n      <td>1 year</td>\n      <td>other</td>\n      <td>80000.0</td>\n      <td>53.90%</td>\n      <td>OR</td>\n    </tr>\n    <tr>\n      <th>...</th>\n      <td>...</td>\n      <td>...</td>\n      <td>...</td>\n      <td>...</td>\n      <td>...</td>\n      <td>...</td>\n      <td>...</td>\n      <td>...</td>\n      <td>...</td>\n      <td>...</td>\n      <td>...</td>\n      <td>...</td>\n      <td>...</td>\n      <td>...</td>\n      <td>...</td>\n      <td>...</td>\n      <td>...</td>\n      <td>...</td>\n      <td>...</td>\n    </tr>\n    <tr>\n      <th>39712</th>\n      <td>INDIVIDUAL</td>\n      <td>8.07%</td>\n      <td>2500</td>\n      <td>Jul-07</td>\n      <td>2822.969293</td>\n      <td>322.97</td>\n      <td>2500.00</td>\n      <td>0.00</td>\n      <td>0.00</td>\n      <td>Fully Paid</td>\n      <td>Not Verified</td>\n      <td>36 months</td>\n      <td>A</td>\n      <td>0</td>\n      <td>4 years</td>\n      <td>home_improvement</td>\n      <td>110000.0</td>\n      <td>13.10%</td>\n      <td>CO</td>\n    </tr>\n    <tr>\n      <th>39713</th>\n      <td>INDIVIDUAL</td>\n      <td>10.28%</td>\n      <td>8500</td>\n      <td>Jul-07</td>\n      <td>9913.491822</td>\n      <td>1413.49</td>\n      <td>8500.00</td>\n      <td>0.00</td>\n      <td>0.00</td>\n      <td>Fully Paid</td>\n      <td>Not Verified</td>\n      <td>36 months</td>\n      <td>C</td>\n      <td>0</td>\n      <td>3 years</td>\n      <td>credit_card</td>\n      <td>18000.0</td>\n      <td>26.90%</td>\n      <td>NC</td>\n    </tr>\n    <tr>\n      <th>39714</th>\n      <td>INDIVIDUAL</td>\n      <td>8.07%</td>\n      <td>5000</td>\n      <td>Jul-07</td>\n      <td>5272.161128</td>\n      <td>272.16</td>\n      <td>5000.00</td>\n      <td>0.00</td>\n      <td>0.00</td>\n      <td>Fully Paid</td>\n      <td>Not Verified</td>\n      <td>36 months</td>\n      <td>A</td>\n      <td>0</td>\n      <td>&lt; 1 year</td>\n      <td>debt_consolidation</td>\n      <td>100000.0</td>\n      <td>19.40%</td>\n      <td>MA</td>\n    </tr>\n    <tr>\n      <th>39715</th>\n      <td>INDIVIDUAL</td>\n      <td>7.43%</td>\n      <td>5000</td>\n      <td>Jul-07</td>\n      <td>5174.198551</td>\n      <td>174.20</td>\n      <td>5000.00</td>\n      <td>0.00</td>\n      <td>0.00</td>\n      <td>Fully Paid</td>\n      <td>Not Verified</td>\n      <td>36 months</td>\n      <td>A</td>\n      <td>0</td>\n      <td>&lt; 1 year</td>\n      <td>other</td>\n      <td>200000.0</td>\n      <td>0.70%</td>\n      <td>MD</td>\n    </tr>\n    <tr>\n      <th>39716</th>\n      <td>INDIVIDUAL</td>\n      <td>13.75%</td>\n      <td>7500</td>\n      <td>Jun-07</td>\n      <td>9195.263334</td>\n      <td>1695.26</td>\n      <td>7500.00</td>\n      <td>0.00</td>\n      <td>0.00</td>\n      <td>Fully Paid</td>\n      <td>Not Verified</td>\n      <td>36 months</td>\n      <td>E</td>\n      <td>0</td>\n      <td>&lt; 1 year</td>\n      <td>debt_consolidation</td>\n      <td>22000.0</td>\n      <td>51.50%</td>\n      <td>MA</td>\n    </tr>\n  </tbody>\n</table>\n<p>39717 rows × 19 columns</p>\n</div>"
     },
     "execution_count": 264,
     "metadata": {},
     "output_type": "execute_result"
    }
   ],
   "source": [
    "# find unique values for total_bc_limit avg_cur_bal\n",
    "avg_cur_bal_rows = loans_df[loans_df['avg_cur_bal'].isna()].shape[0]\n",
    "print(\"All records have avg_cur_bal NaN: {}\".format(avg_cur_bal_rows == total_rows))\n",
    "# remove total_bc_limit\n",
    "loans_df.drop(loans_df.avg_cur_bal.name, axis=1, inplace=True)\n",
    "loans_df"
   ],
   "metadata": {
    "collapsed": false
   }
  },
  {
   "cell_type": "code",
   "execution_count": 265,
   "outputs": [
    {
     "name": "stdout",
     "output_type": "stream",
     "text": [
      "<class 'pandas.core.frame.DataFrame'>\n",
      "RangeIndex: 39717 entries, 0 to 39716\n",
      "Data columns (total 19 columns):\n",
      " #   Column               Non-Null Count  Dtype  \n",
      "---  ------               --------------  -----  \n",
      " 0   application_type     39717 non-null  object \n",
      " 1   int_rate             39717 non-null  object \n",
      " 2   loan_amnt            39717 non-null  int64  \n",
      " 3   issue_d              39717 non-null  object \n",
      " 4   total_pymnt          39717 non-null  float64\n",
      " 5   total_rec_int        39717 non-null  float64\n",
      " 6   total_rec_prncp      39717 non-null  float64\n",
      " 7   total_rec_late_fee   39717 non-null  float64\n",
      " 8   recoveries           39717 non-null  float64\n",
      " 9   loan_status          39717 non-null  object \n",
      " 10  verification_status  39717 non-null  object \n",
      " 11  term                 39717 non-null  object \n",
      " 12  grade                39717 non-null  object \n",
      " 13  delinq_amnt          39717 non-null  int64  \n",
      " 14  emp_length           38642 non-null  object \n",
      " 15  purpose              39717 non-null  object \n",
      " 16  annual_inc           39717 non-null  float64\n",
      " 17  revol_util           39667 non-null  object \n",
      " 18  addr_state           39717 non-null  object \n",
      "dtypes: float64(6), int64(2), object(11)\n",
      "memory usage: 5.8+ MB\n",
      "<class 'pandas.core.frame.DataFrame'>\n",
      "RangeIndex: 39717 entries, 0 to 39716\n",
      "Data columns (total 19 columns):\n",
      " #   Column               Non-Null Count  Dtype  \n",
      "---  ------               --------------  -----  \n",
      " 0   application_type     39717 non-null  object \n",
      " 1   int_rate             39717 non-null  float64\n",
      " 2   loan_amnt            39717 non-null  int64  \n",
      " 3   issue_d              39717 non-null  object \n",
      " 4   total_pymnt          39717 non-null  float64\n",
      " 5   total_rec_int        39717 non-null  float64\n",
      " 6   total_rec_prncp      39717 non-null  float64\n",
      " 7   total_rec_late_fee   39717 non-null  float64\n",
      " 8   recoveries           39717 non-null  float64\n",
      " 9   loan_status          39717 non-null  object \n",
      " 10  verification_status  39717 non-null  object \n",
      " 11  term                 39717 non-null  object \n",
      " 12  grade                39717 non-null  object \n",
      " 13  delinq_amnt          39717 non-null  int64  \n",
      " 14  emp_length           38642 non-null  object \n",
      " 15  purpose              39717 non-null  object \n",
      " 16  annual_inc           39717 non-null  float64\n",
      " 17  revol_util           39667 non-null  object \n",
      " 18  addr_state           39717 non-null  object \n",
      "dtypes: float64(7), int64(2), object(10)\n",
      "memory usage: 5.8+ MB\n"
     ]
    },
    {
     "data": {
      "text/plain": "      application_type  int_rate  loan_amnt issue_d   total_pymnt  \\\n0           INDIVIDUAL     10.65       5000  Dec-11   5863.155187   \n1           INDIVIDUAL     15.27       2500  Dec-11   1008.710000   \n2           INDIVIDUAL     15.96       2400  Dec-11   3005.666844   \n3           INDIVIDUAL     13.49      10000  Dec-11  12231.890000   \n4           INDIVIDUAL     12.69       3000  Dec-11   3513.330000   \n...                ...       ...        ...     ...           ...   \n39712       INDIVIDUAL      8.07       2500  Jul-07   2822.969293   \n39713       INDIVIDUAL     10.28       8500  Jul-07   9913.491822   \n39714       INDIVIDUAL      8.07       5000  Jul-07   5272.161128   \n39715       INDIVIDUAL      7.43       5000  Jul-07   5174.198551   \n39716       INDIVIDUAL     13.75       7500  Jun-07   9195.263334   \n\n       total_rec_int  total_rec_prncp  total_rec_late_fee  recoveries  \\\n0             863.16          5000.00                0.00        0.00   \n1             435.17           456.46                0.00      117.08   \n2             605.67          2400.00                0.00        0.00   \n3            2214.92         10000.00               16.97        0.00   \n4            1037.39          2475.94                0.00        0.00   \n...              ...              ...                 ...         ...   \n39712         322.97          2500.00                0.00        0.00   \n39713        1413.49          8500.00                0.00        0.00   \n39714         272.16          5000.00                0.00        0.00   \n39715         174.20          5000.00                0.00        0.00   \n39716        1695.26          7500.00                0.00        0.00   \n\n       loan_status verification_status        term grade  delinq_amnt  \\\n0       Fully Paid            Verified   36 months     B            0   \n1      Charged Off     Source Verified   60 months     C            0   \n2       Fully Paid        Not Verified   36 months     C            0   \n3       Fully Paid     Source Verified   36 months     C            0   \n4          Current     Source Verified   60 months     B            0   \n...            ...                 ...         ...   ...          ...   \n39712   Fully Paid        Not Verified   36 months     A            0   \n39713   Fully Paid        Not Verified   36 months     C            0   \n39714   Fully Paid        Not Verified   36 months     A            0   \n39715   Fully Paid        Not Verified   36 months     A            0   \n39716   Fully Paid        Not Verified   36 months     E            0   \n\n      emp_length             purpose  annual_inc revol_util addr_state  \n0      10+ years         credit_card     24000.0     83.70%         AZ  \n1       < 1 year                 car     30000.0      9.40%         GA  \n2      10+ years      small_business     12252.0     98.50%         IL  \n3      10+ years               other     49200.0        21%         CA  \n4         1 year               other     80000.0     53.90%         OR  \n...          ...                 ...         ...        ...        ...  \n39712    4 years    home_improvement    110000.0     13.10%         CO  \n39713    3 years         credit_card     18000.0     26.90%         NC  \n39714   < 1 year  debt_consolidation    100000.0     19.40%         MA  \n39715   < 1 year               other    200000.0      0.70%         MD  \n39716   < 1 year  debt_consolidation     22000.0     51.50%         MA  \n\n[39717 rows x 19 columns]",
      "text/html": "<div>\n<style scoped>\n    .dataframe tbody tr th:only-of-type {\n        vertical-align: middle;\n    }\n\n    .dataframe tbody tr th {\n        vertical-align: top;\n    }\n\n    .dataframe thead th {\n        text-align: right;\n    }\n</style>\n<table border=\"1\" class=\"dataframe\">\n  <thead>\n    <tr style=\"text-align: right;\">\n      <th></th>\n      <th>application_type</th>\n      <th>int_rate</th>\n      <th>loan_amnt</th>\n      <th>issue_d</th>\n      <th>total_pymnt</th>\n      <th>total_rec_int</th>\n      <th>total_rec_prncp</th>\n      <th>total_rec_late_fee</th>\n      <th>recoveries</th>\n      <th>loan_status</th>\n      <th>verification_status</th>\n      <th>term</th>\n      <th>grade</th>\n      <th>delinq_amnt</th>\n      <th>emp_length</th>\n      <th>purpose</th>\n      <th>annual_inc</th>\n      <th>revol_util</th>\n      <th>addr_state</th>\n    </tr>\n  </thead>\n  <tbody>\n    <tr>\n      <th>0</th>\n      <td>INDIVIDUAL</td>\n      <td>10.65</td>\n      <td>5000</td>\n      <td>Dec-11</td>\n      <td>5863.155187</td>\n      <td>863.16</td>\n      <td>5000.00</td>\n      <td>0.00</td>\n      <td>0.00</td>\n      <td>Fully Paid</td>\n      <td>Verified</td>\n      <td>36 months</td>\n      <td>B</td>\n      <td>0</td>\n      <td>10+ years</td>\n      <td>credit_card</td>\n      <td>24000.0</td>\n      <td>83.70%</td>\n      <td>AZ</td>\n    </tr>\n    <tr>\n      <th>1</th>\n      <td>INDIVIDUAL</td>\n      <td>15.27</td>\n      <td>2500</td>\n      <td>Dec-11</td>\n      <td>1008.710000</td>\n      <td>435.17</td>\n      <td>456.46</td>\n      <td>0.00</td>\n      <td>117.08</td>\n      <td>Charged Off</td>\n      <td>Source Verified</td>\n      <td>60 months</td>\n      <td>C</td>\n      <td>0</td>\n      <td>&lt; 1 year</td>\n      <td>car</td>\n      <td>30000.0</td>\n      <td>9.40%</td>\n      <td>GA</td>\n    </tr>\n    <tr>\n      <th>2</th>\n      <td>INDIVIDUAL</td>\n      <td>15.96</td>\n      <td>2400</td>\n      <td>Dec-11</td>\n      <td>3005.666844</td>\n      <td>605.67</td>\n      <td>2400.00</td>\n      <td>0.00</td>\n      <td>0.00</td>\n      <td>Fully Paid</td>\n      <td>Not Verified</td>\n      <td>36 months</td>\n      <td>C</td>\n      <td>0</td>\n      <td>10+ years</td>\n      <td>small_business</td>\n      <td>12252.0</td>\n      <td>98.50%</td>\n      <td>IL</td>\n    </tr>\n    <tr>\n      <th>3</th>\n      <td>INDIVIDUAL</td>\n      <td>13.49</td>\n      <td>10000</td>\n      <td>Dec-11</td>\n      <td>12231.890000</td>\n      <td>2214.92</td>\n      <td>10000.00</td>\n      <td>16.97</td>\n      <td>0.00</td>\n      <td>Fully Paid</td>\n      <td>Source Verified</td>\n      <td>36 months</td>\n      <td>C</td>\n      <td>0</td>\n      <td>10+ years</td>\n      <td>other</td>\n      <td>49200.0</td>\n      <td>21%</td>\n      <td>CA</td>\n    </tr>\n    <tr>\n      <th>4</th>\n      <td>INDIVIDUAL</td>\n      <td>12.69</td>\n      <td>3000</td>\n      <td>Dec-11</td>\n      <td>3513.330000</td>\n      <td>1037.39</td>\n      <td>2475.94</td>\n      <td>0.00</td>\n      <td>0.00</td>\n      <td>Current</td>\n      <td>Source Verified</td>\n      <td>60 months</td>\n      <td>B</td>\n      <td>0</td>\n      <td>1 year</td>\n      <td>other</td>\n      <td>80000.0</td>\n      <td>53.90%</td>\n      <td>OR</td>\n    </tr>\n    <tr>\n      <th>...</th>\n      <td>...</td>\n      <td>...</td>\n      <td>...</td>\n      <td>...</td>\n      <td>...</td>\n      <td>...</td>\n      <td>...</td>\n      <td>...</td>\n      <td>...</td>\n      <td>...</td>\n      <td>...</td>\n      <td>...</td>\n      <td>...</td>\n      <td>...</td>\n      <td>...</td>\n      <td>...</td>\n      <td>...</td>\n      <td>...</td>\n      <td>...</td>\n    </tr>\n    <tr>\n      <th>39712</th>\n      <td>INDIVIDUAL</td>\n      <td>8.07</td>\n      <td>2500</td>\n      <td>Jul-07</td>\n      <td>2822.969293</td>\n      <td>322.97</td>\n      <td>2500.00</td>\n      <td>0.00</td>\n      <td>0.00</td>\n      <td>Fully Paid</td>\n      <td>Not Verified</td>\n      <td>36 months</td>\n      <td>A</td>\n      <td>0</td>\n      <td>4 years</td>\n      <td>home_improvement</td>\n      <td>110000.0</td>\n      <td>13.10%</td>\n      <td>CO</td>\n    </tr>\n    <tr>\n      <th>39713</th>\n      <td>INDIVIDUAL</td>\n      <td>10.28</td>\n      <td>8500</td>\n      <td>Jul-07</td>\n      <td>9913.491822</td>\n      <td>1413.49</td>\n      <td>8500.00</td>\n      <td>0.00</td>\n      <td>0.00</td>\n      <td>Fully Paid</td>\n      <td>Not Verified</td>\n      <td>36 months</td>\n      <td>C</td>\n      <td>0</td>\n      <td>3 years</td>\n      <td>credit_card</td>\n      <td>18000.0</td>\n      <td>26.90%</td>\n      <td>NC</td>\n    </tr>\n    <tr>\n      <th>39714</th>\n      <td>INDIVIDUAL</td>\n      <td>8.07</td>\n      <td>5000</td>\n      <td>Jul-07</td>\n      <td>5272.161128</td>\n      <td>272.16</td>\n      <td>5000.00</td>\n      <td>0.00</td>\n      <td>0.00</td>\n      <td>Fully Paid</td>\n      <td>Not Verified</td>\n      <td>36 months</td>\n      <td>A</td>\n      <td>0</td>\n      <td>&lt; 1 year</td>\n      <td>debt_consolidation</td>\n      <td>100000.0</td>\n      <td>19.40%</td>\n      <td>MA</td>\n    </tr>\n    <tr>\n      <th>39715</th>\n      <td>INDIVIDUAL</td>\n      <td>7.43</td>\n      <td>5000</td>\n      <td>Jul-07</td>\n      <td>5174.198551</td>\n      <td>174.20</td>\n      <td>5000.00</td>\n      <td>0.00</td>\n      <td>0.00</td>\n      <td>Fully Paid</td>\n      <td>Not Verified</td>\n      <td>36 months</td>\n      <td>A</td>\n      <td>0</td>\n      <td>&lt; 1 year</td>\n      <td>other</td>\n      <td>200000.0</td>\n      <td>0.70%</td>\n      <td>MD</td>\n    </tr>\n    <tr>\n      <th>39716</th>\n      <td>INDIVIDUAL</td>\n      <td>13.75</td>\n      <td>7500</td>\n      <td>Jun-07</td>\n      <td>9195.263334</td>\n      <td>1695.26</td>\n      <td>7500.00</td>\n      <td>0.00</td>\n      <td>0.00</td>\n      <td>Fully Paid</td>\n      <td>Not Verified</td>\n      <td>36 months</td>\n      <td>E</td>\n      <td>0</td>\n      <td>&lt; 1 year</td>\n      <td>debt_consolidation</td>\n      <td>22000.0</td>\n      <td>51.50%</td>\n      <td>MA</td>\n    </tr>\n  </tbody>\n</table>\n<p>39717 rows × 19 columns</p>\n</div>"
     },
     "execution_count": 265,
     "metadata": {},
     "output_type": "execute_result"
    }
   ],
   "source": [
    "# Clean columns datatype\n",
    "loans_df.info()\n",
    "# int_rate remove %, precision 2, float64\n",
    "# issue_d create year column and month column\n",
    "# emp_length convert to int64\n",
    "# revol_util remove %, precision 2, float64\n",
    "\n",
    "loans_df['int_rate'] = loans_df.int_rate.apply(lambda x: float(str(x).replace(\"%\",\"\")))\n",
    "loans_df.info()\n",
    "loans_df"
   ],
   "metadata": {
    "collapsed": false
   }
  },
  {
   "cell_type": "code",
   "execution_count": 266,
   "outputs": [
    {
     "data": {
      "text/plain": "      application_type  int_rate  loan_amnt issue_d   total_pymnt  \\\n0           INDIVIDUAL     10.65       5000  Dec-11   5863.155187   \n1           INDIVIDUAL     15.27       2500  Dec-11   1008.710000   \n2           INDIVIDUAL     15.96       2400  Dec-11   3005.666844   \n3           INDIVIDUAL     13.49      10000  Dec-11  12231.890000   \n4           INDIVIDUAL     12.69       3000  Dec-11   3513.330000   \n...                ...       ...        ...     ...           ...   \n39712       INDIVIDUAL      8.07       2500  Jul-07   2822.969293   \n39713       INDIVIDUAL     10.28       8500  Jul-07   9913.491822   \n39714       INDIVIDUAL      8.07       5000  Jul-07   5272.161128   \n39715       INDIVIDUAL      7.43       5000  Jul-07   5174.198551   \n39716       INDIVIDUAL     13.75       7500  Jun-07   9195.263334   \n\n       total_rec_int  total_rec_prncp  total_rec_late_fee  recoveries  \\\n0             863.16          5000.00                0.00        0.00   \n1             435.17           456.46                0.00      117.08   \n2             605.67          2400.00                0.00        0.00   \n3            2214.92         10000.00               16.97        0.00   \n4            1037.39          2475.94                0.00        0.00   \n...              ...              ...                 ...         ...   \n39712         322.97          2500.00                0.00        0.00   \n39713        1413.49          8500.00                0.00        0.00   \n39714         272.16          5000.00                0.00        0.00   \n39715         174.20          5000.00                0.00        0.00   \n39716        1695.26          7500.00                0.00        0.00   \n\n       loan_status  ...        term grade delinq_amnt  emp_length  \\\n0       Fully Paid  ...   36 months     B           0   10+ years   \n1      Charged Off  ...   60 months     C           0    < 1 year   \n2       Fully Paid  ...   36 months     C           0   10+ years   \n3       Fully Paid  ...   36 months     C           0   10+ years   \n4          Current  ...   60 months     B           0      1 year   \n...            ...  ...         ...   ...         ...         ...   \n39712   Fully Paid  ...   36 months     A           0     4 years   \n39713   Fully Paid  ...   36 months     C           0     3 years   \n39714   Fully Paid  ...   36 months     A           0    < 1 year   \n39715   Fully Paid  ...   36 months     A           0    < 1 year   \n39716   Fully Paid  ...   36 months     E           0    < 1 year   \n\n                  purpose annual_inc  revol_util addr_state issue_year  \\\n0             credit_card    24000.0      83.70%         AZ       2011   \n1                     car    30000.0       9.40%         GA       2011   \n2          small_business    12252.0      98.50%         IL       2011   \n3                   other    49200.0         21%         CA       2011   \n4                   other    80000.0      53.90%         OR       2011   \n...                   ...        ...         ...        ...        ...   \n39712    home_improvement   110000.0      13.10%         CO       2007   \n39713         credit_card    18000.0      26.90%         NC       2007   \n39714  debt_consolidation   100000.0      19.40%         MA       2007   \n39715               other   200000.0       0.70%         MD       2007   \n39716  debt_consolidation    22000.0      51.50%         MA       2007   \n\n       issue_month  \n0               12  \n1               12  \n2               12  \n3               12  \n4               12  \n...            ...  \n39712            7  \n39713            7  \n39714            7  \n39715            7  \n39716            6  \n\n[39717 rows x 21 columns]",
      "text/html": "<div>\n<style scoped>\n    .dataframe tbody tr th:only-of-type {\n        vertical-align: middle;\n    }\n\n    .dataframe tbody tr th {\n        vertical-align: top;\n    }\n\n    .dataframe thead th {\n        text-align: right;\n    }\n</style>\n<table border=\"1\" class=\"dataframe\">\n  <thead>\n    <tr style=\"text-align: right;\">\n      <th></th>\n      <th>application_type</th>\n      <th>int_rate</th>\n      <th>loan_amnt</th>\n      <th>issue_d</th>\n      <th>total_pymnt</th>\n      <th>total_rec_int</th>\n      <th>total_rec_prncp</th>\n      <th>total_rec_late_fee</th>\n      <th>recoveries</th>\n      <th>loan_status</th>\n      <th>...</th>\n      <th>term</th>\n      <th>grade</th>\n      <th>delinq_amnt</th>\n      <th>emp_length</th>\n      <th>purpose</th>\n      <th>annual_inc</th>\n      <th>revol_util</th>\n      <th>addr_state</th>\n      <th>issue_year</th>\n      <th>issue_month</th>\n    </tr>\n  </thead>\n  <tbody>\n    <tr>\n      <th>0</th>\n      <td>INDIVIDUAL</td>\n      <td>10.65</td>\n      <td>5000</td>\n      <td>Dec-11</td>\n      <td>5863.155187</td>\n      <td>863.16</td>\n      <td>5000.00</td>\n      <td>0.00</td>\n      <td>0.00</td>\n      <td>Fully Paid</td>\n      <td>...</td>\n      <td>36 months</td>\n      <td>B</td>\n      <td>0</td>\n      <td>10+ years</td>\n      <td>credit_card</td>\n      <td>24000.0</td>\n      <td>83.70%</td>\n      <td>AZ</td>\n      <td>2011</td>\n      <td>12</td>\n    </tr>\n    <tr>\n      <th>1</th>\n      <td>INDIVIDUAL</td>\n      <td>15.27</td>\n      <td>2500</td>\n      <td>Dec-11</td>\n      <td>1008.710000</td>\n      <td>435.17</td>\n      <td>456.46</td>\n      <td>0.00</td>\n      <td>117.08</td>\n      <td>Charged Off</td>\n      <td>...</td>\n      <td>60 months</td>\n      <td>C</td>\n      <td>0</td>\n      <td>&lt; 1 year</td>\n      <td>car</td>\n      <td>30000.0</td>\n      <td>9.40%</td>\n      <td>GA</td>\n      <td>2011</td>\n      <td>12</td>\n    </tr>\n    <tr>\n      <th>2</th>\n      <td>INDIVIDUAL</td>\n      <td>15.96</td>\n      <td>2400</td>\n      <td>Dec-11</td>\n      <td>3005.666844</td>\n      <td>605.67</td>\n      <td>2400.00</td>\n      <td>0.00</td>\n      <td>0.00</td>\n      <td>Fully Paid</td>\n      <td>...</td>\n      <td>36 months</td>\n      <td>C</td>\n      <td>0</td>\n      <td>10+ years</td>\n      <td>small_business</td>\n      <td>12252.0</td>\n      <td>98.50%</td>\n      <td>IL</td>\n      <td>2011</td>\n      <td>12</td>\n    </tr>\n    <tr>\n      <th>3</th>\n      <td>INDIVIDUAL</td>\n      <td>13.49</td>\n      <td>10000</td>\n      <td>Dec-11</td>\n      <td>12231.890000</td>\n      <td>2214.92</td>\n      <td>10000.00</td>\n      <td>16.97</td>\n      <td>0.00</td>\n      <td>Fully Paid</td>\n      <td>...</td>\n      <td>36 months</td>\n      <td>C</td>\n      <td>0</td>\n      <td>10+ years</td>\n      <td>other</td>\n      <td>49200.0</td>\n      <td>21%</td>\n      <td>CA</td>\n      <td>2011</td>\n      <td>12</td>\n    </tr>\n    <tr>\n      <th>4</th>\n      <td>INDIVIDUAL</td>\n      <td>12.69</td>\n      <td>3000</td>\n      <td>Dec-11</td>\n      <td>3513.330000</td>\n      <td>1037.39</td>\n      <td>2475.94</td>\n      <td>0.00</td>\n      <td>0.00</td>\n      <td>Current</td>\n      <td>...</td>\n      <td>60 months</td>\n      <td>B</td>\n      <td>0</td>\n      <td>1 year</td>\n      <td>other</td>\n      <td>80000.0</td>\n      <td>53.90%</td>\n      <td>OR</td>\n      <td>2011</td>\n      <td>12</td>\n    </tr>\n    <tr>\n      <th>...</th>\n      <td>...</td>\n      <td>...</td>\n      <td>...</td>\n      <td>...</td>\n      <td>...</td>\n      <td>...</td>\n      <td>...</td>\n      <td>...</td>\n      <td>...</td>\n      <td>...</td>\n      <td>...</td>\n      <td>...</td>\n      <td>...</td>\n      <td>...</td>\n      <td>...</td>\n      <td>...</td>\n      <td>...</td>\n      <td>...</td>\n      <td>...</td>\n      <td>...</td>\n      <td>...</td>\n    </tr>\n    <tr>\n      <th>39712</th>\n      <td>INDIVIDUAL</td>\n      <td>8.07</td>\n      <td>2500</td>\n      <td>Jul-07</td>\n      <td>2822.969293</td>\n      <td>322.97</td>\n      <td>2500.00</td>\n      <td>0.00</td>\n      <td>0.00</td>\n      <td>Fully Paid</td>\n      <td>...</td>\n      <td>36 months</td>\n      <td>A</td>\n      <td>0</td>\n      <td>4 years</td>\n      <td>home_improvement</td>\n      <td>110000.0</td>\n      <td>13.10%</td>\n      <td>CO</td>\n      <td>2007</td>\n      <td>7</td>\n    </tr>\n    <tr>\n      <th>39713</th>\n      <td>INDIVIDUAL</td>\n      <td>10.28</td>\n      <td>8500</td>\n      <td>Jul-07</td>\n      <td>9913.491822</td>\n      <td>1413.49</td>\n      <td>8500.00</td>\n      <td>0.00</td>\n      <td>0.00</td>\n      <td>Fully Paid</td>\n      <td>...</td>\n      <td>36 months</td>\n      <td>C</td>\n      <td>0</td>\n      <td>3 years</td>\n      <td>credit_card</td>\n      <td>18000.0</td>\n      <td>26.90%</td>\n      <td>NC</td>\n      <td>2007</td>\n      <td>7</td>\n    </tr>\n    <tr>\n      <th>39714</th>\n      <td>INDIVIDUAL</td>\n      <td>8.07</td>\n      <td>5000</td>\n      <td>Jul-07</td>\n      <td>5272.161128</td>\n      <td>272.16</td>\n      <td>5000.00</td>\n      <td>0.00</td>\n      <td>0.00</td>\n      <td>Fully Paid</td>\n      <td>...</td>\n      <td>36 months</td>\n      <td>A</td>\n      <td>0</td>\n      <td>&lt; 1 year</td>\n      <td>debt_consolidation</td>\n      <td>100000.0</td>\n      <td>19.40%</td>\n      <td>MA</td>\n      <td>2007</td>\n      <td>7</td>\n    </tr>\n    <tr>\n      <th>39715</th>\n      <td>INDIVIDUAL</td>\n      <td>7.43</td>\n      <td>5000</td>\n      <td>Jul-07</td>\n      <td>5174.198551</td>\n      <td>174.20</td>\n      <td>5000.00</td>\n      <td>0.00</td>\n      <td>0.00</td>\n      <td>Fully Paid</td>\n      <td>...</td>\n      <td>36 months</td>\n      <td>A</td>\n      <td>0</td>\n      <td>&lt; 1 year</td>\n      <td>other</td>\n      <td>200000.0</td>\n      <td>0.70%</td>\n      <td>MD</td>\n      <td>2007</td>\n      <td>7</td>\n    </tr>\n    <tr>\n      <th>39716</th>\n      <td>INDIVIDUAL</td>\n      <td>13.75</td>\n      <td>7500</td>\n      <td>Jun-07</td>\n      <td>9195.263334</td>\n      <td>1695.26</td>\n      <td>7500.00</td>\n      <td>0.00</td>\n      <td>0.00</td>\n      <td>Fully Paid</td>\n      <td>...</td>\n      <td>36 months</td>\n      <td>E</td>\n      <td>0</td>\n      <td>&lt; 1 year</td>\n      <td>debt_consolidation</td>\n      <td>22000.0</td>\n      <td>51.50%</td>\n      <td>MA</td>\n      <td>2007</td>\n      <td>6</td>\n    </tr>\n  </tbody>\n</table>\n<p>39717 rows × 21 columns</p>\n</div>"
     },
     "execution_count": 266,
     "metadata": {},
     "output_type": "execute_result"
    }
   ],
   "source": [
    "loans_df['issue_year'] = pd.DatetimeIndex(pd.to_datetime(loans_df.issue_d,format='%b-%y')).year\n",
    "loans_df['issue_month'] = pd.DatetimeIndex(pd.to_datetime(loans_df.issue_d,format='%b-%y')).month\n",
    "loans_df"
   ],
   "metadata": {
    "collapsed": false
   }
  },
  {
   "cell_type": "code",
   "execution_count": 267,
   "outputs": [],
   "source": [
    "# emp_length convert to int64\n",
    "def formatEmp_length(data):\n",
    "    return str(data).replace(\"+ years\",\"\").replace(\" year\",\"\").replace(\"< \",\"\").replace(\"s\",\"\").replace(\"nan\",\"-1\")\n",
    "\n",
    "loans_df['emp_length'] = loans_df.emp_length.apply(lambda x: formatEmp_length(x))\n",
    "loans_df['emp_length'] = loans_df['emp_length'].astype(int)\n"
   ],
   "metadata": {
    "collapsed": false
   }
  },
  {
   "cell_type": "code",
   "execution_count": 268,
   "outputs": [
    {
     "data": {
      "text/plain": "0.00     977\n0.20      63\n63.00     62\n40.70     58\n66.70     58\n        ... \n25.74      1\n47.36      1\n24.65      1\n10.61      1\n7.28       1\nName: revol_util, Length: 1089, dtype: int64"
     },
     "execution_count": 268,
     "metadata": {},
     "output_type": "execute_result"
    }
   ],
   "source": [
    "# revol_util remove %, precision 2, float64\n",
    "loans_df['revol_util'] = loans_df.revol_util.apply(lambda x: float(str(x).replace(\"%\",\"\")))\n",
    "loans_df.revol_util.value_counts()"
   ],
   "metadata": {
    "collapsed": false
   }
  },
  {
   "cell_type": "code",
   "execution_count": 269,
   "outputs": [
    {
     "name": "stdout",
     "output_type": "stream",
     "text": [
      "total rows with at least one null value: 50\n",
      "total rows with at least one null value: 0\n"
     ]
    }
   ],
   "source": [
    "# total rows with one null value\n",
    "print(\"total rows with at least one null value: {}\".format(loans_df.isnull().any(axis = 1).sum()))\n",
    "#loans_df[loans_df.isnull().any(axis=1)]\n",
    "loans_df['revol_util'] = loans_df.revol_util.apply(lambda x: -1 if pd.isna(x) else x  )\n",
    "loans_df[loans_df.isnull().any(axis=1)]\n",
    "print(\"total rows with at least one null value: {}\".format(loans_df.isnull().any(axis = 1).sum()))\n"
   ],
   "metadata": {
    "collapsed": false
   }
  },
  {
   "cell_type": "code",
   "execution_count": 270,
   "outputs": [
    {
     "data": {
      "text/plain": "      application_type  int_rate  loan_amnt issue_d   total_pymnt  \\\n0           INDIVIDUAL     10.65       5000  Dec-11   5863.155187   \n1           INDIVIDUAL     15.27       2500  Dec-11   1008.710000   \n2           INDIVIDUAL     15.96       2400  Dec-11   3005.666844   \n3           INDIVIDUAL     13.49      10000  Dec-11  12231.890000   \n4           INDIVIDUAL     12.69       3000  Dec-11   3513.330000   \n...                ...       ...        ...     ...           ...   \n39712       INDIVIDUAL      8.07       2500  Jul-07   2822.969293   \n39713       INDIVIDUAL     10.28       8500  Jul-07   9913.491822   \n39714       INDIVIDUAL      8.07       5000  Jul-07   5272.161128   \n39715       INDIVIDUAL      7.43       5000  Jul-07   5174.198551   \n39716       INDIVIDUAL     13.75       7500  Jun-07   9195.263334   \n\n       total_rec_int  total_rec_prncp  total_rec_late_fee  recoveries  \\\n0             863.16          5000.00                0.00        0.00   \n1             435.17           456.46                0.00      117.08   \n2             605.67          2400.00                0.00        0.00   \n3            2214.92         10000.00               16.97        0.00   \n4            1037.39          2475.94                0.00        0.00   \n...              ...              ...                 ...         ...   \n39712         322.97          2500.00                0.00        0.00   \n39713        1413.49          8500.00                0.00        0.00   \n39714         272.16          5000.00                0.00        0.00   \n39715         174.20          5000.00                0.00        0.00   \n39716        1695.26          7500.00                0.00        0.00   \n\n       loan_status  ...        term grade delinq_amnt  emp_length  \\\n0       Fully Paid  ...   36 months     B           0          10   \n1      Charged Off  ...   60 months     C           0           1   \n2       Fully Paid  ...   36 months     C           0          10   \n3       Fully Paid  ...   36 months     C           0          10   \n4          Current  ...   60 months     B           0           1   \n...            ...  ...         ...   ...         ...         ...   \n39712   Fully Paid  ...   36 months     A           0           4   \n39713   Fully Paid  ...   36 months     C           0           3   \n39714   Fully Paid  ...   36 months     A           0           1   \n39715   Fully Paid  ...   36 months     A           0           1   \n39716   Fully Paid  ...   36 months     E           0           1   \n\n                  purpose annual_inc  revol_util  addr_state issue_year  \\\n0             credit_card    24000.0        83.7          AZ       2011   \n1                     car    30000.0         9.4          GA       2011   \n2          small_business    12252.0        98.5          IL       2011   \n3                   other    49200.0        21.0          CA       2011   \n4                   other    80000.0        53.9          OR       2011   \n...                   ...        ...         ...         ...        ...   \n39712    home_improvement   110000.0        13.1          CO       2007   \n39713         credit_card    18000.0        26.9          NC       2007   \n39714  debt_consolidation   100000.0        19.4          MA       2007   \n39715               other   200000.0         0.7          MD       2007   \n39716  debt_consolidation    22000.0        51.5          MA       2007   \n\n       issue_month  \n0               12  \n1               12  \n2               12  \n3               12  \n4               12  \n...            ...  \n39712            7  \n39713            7  \n39714            7  \n39715            7  \n39716            6  \n\n[39717 rows x 21 columns]",
      "text/html": "<div>\n<style scoped>\n    .dataframe tbody tr th:only-of-type {\n        vertical-align: middle;\n    }\n\n    .dataframe tbody tr th {\n        vertical-align: top;\n    }\n\n    .dataframe thead th {\n        text-align: right;\n    }\n</style>\n<table border=\"1\" class=\"dataframe\">\n  <thead>\n    <tr style=\"text-align: right;\">\n      <th></th>\n      <th>application_type</th>\n      <th>int_rate</th>\n      <th>loan_amnt</th>\n      <th>issue_d</th>\n      <th>total_pymnt</th>\n      <th>total_rec_int</th>\n      <th>total_rec_prncp</th>\n      <th>total_rec_late_fee</th>\n      <th>recoveries</th>\n      <th>loan_status</th>\n      <th>...</th>\n      <th>term</th>\n      <th>grade</th>\n      <th>delinq_amnt</th>\n      <th>emp_length</th>\n      <th>purpose</th>\n      <th>annual_inc</th>\n      <th>revol_util</th>\n      <th>addr_state</th>\n      <th>issue_year</th>\n      <th>issue_month</th>\n    </tr>\n  </thead>\n  <tbody>\n    <tr>\n      <th>0</th>\n      <td>INDIVIDUAL</td>\n      <td>10.65</td>\n      <td>5000</td>\n      <td>Dec-11</td>\n      <td>5863.155187</td>\n      <td>863.16</td>\n      <td>5000.00</td>\n      <td>0.00</td>\n      <td>0.00</td>\n      <td>Fully Paid</td>\n      <td>...</td>\n      <td>36 months</td>\n      <td>B</td>\n      <td>0</td>\n      <td>10</td>\n      <td>credit_card</td>\n      <td>24000.0</td>\n      <td>83.7</td>\n      <td>AZ</td>\n      <td>2011</td>\n      <td>12</td>\n    </tr>\n    <tr>\n      <th>1</th>\n      <td>INDIVIDUAL</td>\n      <td>15.27</td>\n      <td>2500</td>\n      <td>Dec-11</td>\n      <td>1008.710000</td>\n      <td>435.17</td>\n      <td>456.46</td>\n      <td>0.00</td>\n      <td>117.08</td>\n      <td>Charged Off</td>\n      <td>...</td>\n      <td>60 months</td>\n      <td>C</td>\n      <td>0</td>\n      <td>1</td>\n      <td>car</td>\n      <td>30000.0</td>\n      <td>9.4</td>\n      <td>GA</td>\n      <td>2011</td>\n      <td>12</td>\n    </tr>\n    <tr>\n      <th>2</th>\n      <td>INDIVIDUAL</td>\n      <td>15.96</td>\n      <td>2400</td>\n      <td>Dec-11</td>\n      <td>3005.666844</td>\n      <td>605.67</td>\n      <td>2400.00</td>\n      <td>0.00</td>\n      <td>0.00</td>\n      <td>Fully Paid</td>\n      <td>...</td>\n      <td>36 months</td>\n      <td>C</td>\n      <td>0</td>\n      <td>10</td>\n      <td>small_business</td>\n      <td>12252.0</td>\n      <td>98.5</td>\n      <td>IL</td>\n      <td>2011</td>\n      <td>12</td>\n    </tr>\n    <tr>\n      <th>3</th>\n      <td>INDIVIDUAL</td>\n      <td>13.49</td>\n      <td>10000</td>\n      <td>Dec-11</td>\n      <td>12231.890000</td>\n      <td>2214.92</td>\n      <td>10000.00</td>\n      <td>16.97</td>\n      <td>0.00</td>\n      <td>Fully Paid</td>\n      <td>...</td>\n      <td>36 months</td>\n      <td>C</td>\n      <td>0</td>\n      <td>10</td>\n      <td>other</td>\n      <td>49200.0</td>\n      <td>21.0</td>\n      <td>CA</td>\n      <td>2011</td>\n      <td>12</td>\n    </tr>\n    <tr>\n      <th>4</th>\n      <td>INDIVIDUAL</td>\n      <td>12.69</td>\n      <td>3000</td>\n      <td>Dec-11</td>\n      <td>3513.330000</td>\n      <td>1037.39</td>\n      <td>2475.94</td>\n      <td>0.00</td>\n      <td>0.00</td>\n      <td>Current</td>\n      <td>...</td>\n      <td>60 months</td>\n      <td>B</td>\n      <td>0</td>\n      <td>1</td>\n      <td>other</td>\n      <td>80000.0</td>\n      <td>53.9</td>\n      <td>OR</td>\n      <td>2011</td>\n      <td>12</td>\n    </tr>\n    <tr>\n      <th>...</th>\n      <td>...</td>\n      <td>...</td>\n      <td>...</td>\n      <td>...</td>\n      <td>...</td>\n      <td>...</td>\n      <td>...</td>\n      <td>...</td>\n      <td>...</td>\n      <td>...</td>\n      <td>...</td>\n      <td>...</td>\n      <td>...</td>\n      <td>...</td>\n      <td>...</td>\n      <td>...</td>\n      <td>...</td>\n      <td>...</td>\n      <td>...</td>\n      <td>...</td>\n      <td>...</td>\n    </tr>\n    <tr>\n      <th>39712</th>\n      <td>INDIVIDUAL</td>\n      <td>8.07</td>\n      <td>2500</td>\n      <td>Jul-07</td>\n      <td>2822.969293</td>\n      <td>322.97</td>\n      <td>2500.00</td>\n      <td>0.00</td>\n      <td>0.00</td>\n      <td>Fully Paid</td>\n      <td>...</td>\n      <td>36 months</td>\n      <td>A</td>\n      <td>0</td>\n      <td>4</td>\n      <td>home_improvement</td>\n      <td>110000.0</td>\n      <td>13.1</td>\n      <td>CO</td>\n      <td>2007</td>\n      <td>7</td>\n    </tr>\n    <tr>\n      <th>39713</th>\n      <td>INDIVIDUAL</td>\n      <td>10.28</td>\n      <td>8500</td>\n      <td>Jul-07</td>\n      <td>9913.491822</td>\n      <td>1413.49</td>\n      <td>8500.00</td>\n      <td>0.00</td>\n      <td>0.00</td>\n      <td>Fully Paid</td>\n      <td>...</td>\n      <td>36 months</td>\n      <td>C</td>\n      <td>0</td>\n      <td>3</td>\n      <td>credit_card</td>\n      <td>18000.0</td>\n      <td>26.9</td>\n      <td>NC</td>\n      <td>2007</td>\n      <td>7</td>\n    </tr>\n    <tr>\n      <th>39714</th>\n      <td>INDIVIDUAL</td>\n      <td>8.07</td>\n      <td>5000</td>\n      <td>Jul-07</td>\n      <td>5272.161128</td>\n      <td>272.16</td>\n      <td>5000.00</td>\n      <td>0.00</td>\n      <td>0.00</td>\n      <td>Fully Paid</td>\n      <td>...</td>\n      <td>36 months</td>\n      <td>A</td>\n      <td>0</td>\n      <td>1</td>\n      <td>debt_consolidation</td>\n      <td>100000.0</td>\n      <td>19.4</td>\n      <td>MA</td>\n      <td>2007</td>\n      <td>7</td>\n    </tr>\n    <tr>\n      <th>39715</th>\n      <td>INDIVIDUAL</td>\n      <td>7.43</td>\n      <td>5000</td>\n      <td>Jul-07</td>\n      <td>5174.198551</td>\n      <td>174.20</td>\n      <td>5000.00</td>\n      <td>0.00</td>\n      <td>0.00</td>\n      <td>Fully Paid</td>\n      <td>...</td>\n      <td>36 months</td>\n      <td>A</td>\n      <td>0</td>\n      <td>1</td>\n      <td>other</td>\n      <td>200000.0</td>\n      <td>0.7</td>\n      <td>MD</td>\n      <td>2007</td>\n      <td>7</td>\n    </tr>\n    <tr>\n      <th>39716</th>\n      <td>INDIVIDUAL</td>\n      <td>13.75</td>\n      <td>7500</td>\n      <td>Jun-07</td>\n      <td>9195.263334</td>\n      <td>1695.26</td>\n      <td>7500.00</td>\n      <td>0.00</td>\n      <td>0.00</td>\n      <td>Fully Paid</td>\n      <td>...</td>\n      <td>36 months</td>\n      <td>E</td>\n      <td>0</td>\n      <td>1</td>\n      <td>debt_consolidation</td>\n      <td>22000.0</td>\n      <td>51.5</td>\n      <td>MA</td>\n      <td>2007</td>\n      <td>6</td>\n    </tr>\n  </tbody>\n</table>\n<p>39717 rows × 21 columns</p>\n</div>"
     },
     "execution_count": 270,
     "metadata": {},
     "output_type": "execute_result"
    }
   ],
   "source": [
    "loans_df"
   ],
   "metadata": {
    "collapsed": false
   }
  }
 ],
 "metadata": {
  "kernelspec": {
   "display_name": "Python 3",
   "language": "python",
   "name": "python3"
  },
  "language_info": {
   "codemirror_mode": {
    "name": "ipython",
    "version": 2
   },
   "file_extension": ".py",
   "mimetype": "text/x-python",
   "name": "python",
   "nbconvert_exporter": "python",
   "pygments_lexer": "ipython2",
   "version": "2.7.6"
  }
 },
 "nbformat": 4,
 "nbformat_minor": 0
}
